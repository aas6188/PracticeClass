{
  "nbformat": 4,
  "nbformat_minor": 0,
  "metadata": {
    "colab": {
      "name": "Lab1.ipynb",
      "provenance": [],
      "authorship_tag": "ABX9TyOHLALqomqir6VjcMTePYK3",
      "include_colab_link": true
    },
    "kernelspec": {
      "name": "python3",
      "display_name": "Python 3"
    }
  },
  "cells": [
    {
      "cell_type": "markdown",
      "metadata": {
        "id": "view-in-github",
        "colab_type": "text"
      },
      "source": [
        "<a href=\"https://colab.research.google.com/github/aas6188/PracticeClass/blob/master/Lab1.ipynb\" target=\"_parent\"><img src=\"https://colab.research.google.com/assets/colab-badge.svg\" alt=\"Open In Colab\"/></a>"
      ]
    },
    {
      "cell_type": "markdown",
      "metadata": {
        "id": "SxQ8Hqc1gaN9",
        "colab_type": "text"
      },
      "source": [
        "### Do you like using Jupyter Notebooks? "
      ]
    },
    {
      "cell_type": "markdown",
      "metadata": {
        "id": "gWLKnvo0gjmX",
        "colab_type": "text"
      },
      "source": [
        "So far I think Jupyter Notebooks is a nice resource to use. I need more experience with it to determine if I will really like it for now."
      ]
    },
    {
      "cell_type": "markdown",
      "metadata": {
        "id": "EhonYM0JhdZ_",
        "colab_type": "text"
      },
      "source": [
        "### What do you want to learn more about in Jupyter Notebooks?"
      ]
    },
    {
      "cell_type": "markdown",
      "metadata": {
        "id": "Mjt9P3yQhqwH",
        "colab_type": "text"
      },
      "source": [
        "I still don't know much about Jupyter Notebooks, so many of the functions are still unknown to me. Something I do want to explore more is how the code will interact with this."
      ]
    },
    {
      "cell_type": "markdown",
      "metadata": {
        "id": "Q7rw6B8fh9lJ",
        "colab_type": "text"
      },
      "source": [
        "![City skyline in the morning](https://raw.githubusercontent.com/aas6188/PracticeClass/master/images/thepostpande.jpg)"
      ]
    }
  ]
}